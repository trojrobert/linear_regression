{
 "cells": [
  {
   "cell_type": "code",
   "execution_count": 21,
   "metadata": {},
   "outputs": [
    {
     "name": "stdout",
     "output_type": "stream",
     "text": [
      "After 0 iterations bias = 0.0014547010110737297 weight = 0.07370702973591052 error = 5035.166806835488 \n",
      "After 1 iterations bias = 0.0028372014495286774 weight = 0.14374060806815414 error = 4556.7323715944 \n",
      "After 2 iterations bias = 0.004151099681139559 weight = 0.21028381419066666 error = 4124.798445175136 \n",
      "After 3 iterations bias = 0.005399814734639951 weight = 0.27351060291065116 error = 3734.8455006002387 \n",
      "After 4 iterations bias = 0.006586595239605855 weight = 0.3335862593940432 error = 3382.7932775716404 \n",
      "After 5 iterations bias = 0.0077145279188888345 weight = 0.3906678312471585 error = 3064.958088795723 \n",
      "After 6 iterations bias = 0.008786545657799282 weight = 0.4449045390640527 error = 2778.014275837526 \n",
      "After 7 iterations bias = 0.009805435171133943 weight = 0.49643816651282946 error = 2518.959411198589 \n",
      "After 8 iterations bias = 0.010773844288090539 weight = 0.5454034309806438 error = 2285.082882511535 \n",
      "After 9 iterations bias = 0.011694288874113378 weight = 0.5919283357463264 error = 2073.937530133058 \n"
     ]
    }
   ],
   "source": [
    "from numpy import * \n",
    "\n",
    "#Calculate the error for each iteration\n",
    "def compute_error_for_given_points(b,m, points):\n",
    "    totalError = 0\n",
    "    \n",
    "    for i in range(0, len(points)):\n",
    "        x = points[i,0]\n",
    "        y = points[i,1]\n",
    "        \n",
    "        #Error equation square error \n",
    "        totalError += (y - (m * x + b)) ** 2\n",
    "    return (totalError / len(points))\n",
    "        \n",
    "#Calculate the derivative/gradient of the weight and the bias      \n",
    "def step_gradient(b_current,w_current, points, learning_rate):\n",
    "    \n",
    "    b_gradient = 0\n",
    "    w_gradient = 0\n",
    "    N = len(points)\n",
    "    \n",
    "    #calculate the gradient\n",
    "    for i in range(0, len(points)):\n",
    "        x = points[i, 0]\n",
    "        y = points[i, 1]\n",
    "        \n",
    "        #calculate the derivative for the bias or y intercept \n",
    "        b_gradient += -(2/N) * (y - ((w_current * x) + b_current))\n",
    "        \n",
    "        #Calculate the derivative for the weight or slope\n",
    "        w_gradient += -(2/N) * x *(y - ((w_current * x) + b_current))\n",
    "     \n",
    "    new_b = b_current - (learning_rate * b_gradient)\n",
    "    new_w = w_current - (learning_rate * w_gradient)\n",
    "    \n",
    "    return[new_b,new_w]\n",
    "\n",
    "#calculate  gradient descent for each iteration\n",
    "def calculating_gradient_descent(points,bias,weight, learning_rate, num_iterations):\n",
    "    b = bias\n",
    "    w = weight\n",
    "    \n",
    "    # for each iteraction \n",
    "    \n",
    "    for i in range(num_iterations):\n",
    "        b,w = step_gradient(b,w, array(points), learning_rate)\n",
    "        error = compute_error_for_given_points(b,w,points)\n",
    "        print(\"After {} iterations bias = {} weight = {} error = {} \".format (i, b,w, error))\n",
    "    return [b,w]\n",
    "\n",
    "def run():\n",
    "    \n",
    "    #import the data \n",
    "    points = genfromtxt(\"hour_study_data.csv\",delimiter=',')\n",
    "    #hyperparameter\n",
    "    learning_rate = 0.00001\n",
    "    \n",
    "    #linear equation(slope formula) y = mx + b \n",
    "    initial_bias = 0 #bias\n",
    "    initial_weight = 0 #weight\n",
    "    num_iterations = 10 \n",
    "    \n",
    "    [b,w] = calculating_gradient_descent(points, initial_bias, initial_weight, learning_rate,num_iterations)\n",
    "   \n",
    "    \n",
    "    \n",
    "    \n",
    "if __name__ == '__main__':\n",
    "    run()"
   ]
  },
  {
   "cell_type": "code",
   "execution_count": null,
   "metadata": {},
   "outputs": [],
   "source": []
  }
 ],
 "metadata": {
  "kernelspec": {
   "display_name": "Python 3",
   "language": "python",
   "name": "python3"
  },
  "language_info": {
   "codemirror_mode": {
    "name": "ipython",
    "version": 3
   },
   "file_extension": ".py",
   "mimetype": "text/x-python",
   "name": "python",
   "nbconvert_exporter": "python",
   "pygments_lexer": "ipython3",
   "version": "3.6.4"
  }
 },
 "nbformat": 4,
 "nbformat_minor": 2
}
